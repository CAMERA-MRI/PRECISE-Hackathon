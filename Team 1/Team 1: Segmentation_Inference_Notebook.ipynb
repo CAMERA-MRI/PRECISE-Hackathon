{
  "nbformat": 4,
  "nbformat_minor": 0,
  "metadata": {
    "colab": {
      "provenance": [],
      "gpuType": "T4"
    },
    "kernelspec": {
      "name": "python3",
      "display_name": "Python 3"
    },
    "language_info": {
      "name": "python"
    },
    "accelerator": "GPU"
  },
  "cells": [
    {
      "cell_type": "markdown",
      "source": [
        "### LIBRARY & MODEL IMPORTS"
      ],
      "metadata": {
        "id": "zngWUIh8X8k7"
      }
    },
    {
      "cell_type": "code",
      "source": [
        "!pip -q install nnunetv2"
      ],
      "metadata": {
        "colab": {
          "base_uri": "https://localhost:8080/"
        },
        "id": "UZRJBuFmYHj1",
        "outputId": "a3275784-a4e4-4710-c965-d7c6ce93c006"
      },
      "execution_count": null,
      "outputs": [
        {
          "output_type": "stream",
          "name": "stdout",
          "text": [
            "\u001b[?25l     \u001b[90m━━━━━━━━━━━━━━━━━━━━━━━━━━━━━━━━━━━━━━━━\u001b[0m \u001b[32m0.0/197.0 kB\u001b[0m \u001b[31m?\u001b[0m eta \u001b[36m-:--:--\u001b[0m\r\u001b[2K     \u001b[90m━━━━━━━━━━━━━━━━━━━━━━━━━━━━━━━━━━━━━━━━\u001b[0m \u001b[32m197.0/197.0 kB\u001b[0m \u001b[31m6.2 MB/s\u001b[0m eta \u001b[36m0:00:00\u001b[0m\n",
            "\u001b[?25h  Installing build dependencies ... \u001b[?25l\u001b[?25hdone\n",
            "  Getting requirements to build wheel ... \u001b[?25l\u001b[?25hdone\n",
            "  Preparing metadata (pyproject.toml) ... \u001b[?25l\u001b[?25hdone\n",
            "  Preparing metadata (setup.py) ... \u001b[?25l\u001b[?25hdone\n",
            "  Preparing metadata (setup.py) ... \u001b[?25l\u001b[?25hdone\n",
            "\u001b[2K     \u001b[90m━━━━━━━━━━━━━━━━━━━━━━━━━━━━━━━━━━━━━━━━\u001b[0m \u001b[32m61.7/61.7 kB\u001b[0m \u001b[31m4.8 MB/s\u001b[0m eta \u001b[36m0:00:00\u001b[0m\n",
            "\u001b[?25h  Preparing metadata (setup.py) ... \u001b[?25l\u001b[?25hdone\n",
            "  Installing build dependencies ... \u001b[?25l\u001b[?25hdone\n",
            "  Getting requirements to build wheel ... \u001b[?25l\u001b[?25hdone\n",
            "  Preparing metadata (pyproject.toml) ... \u001b[?25l\u001b[?25hdone\n",
            "\u001b[2K   \u001b[90m━━━━━━━━━━━━━━━━━━━━━━━━━━━━━━━━━━━━━━━━\u001b[0m \u001b[32m52.4/52.4 MB\u001b[0m \u001b[31m11.1 MB/s\u001b[0m eta \u001b[36m0:00:00\u001b[0m\n",
            "\u001b[2K   \u001b[90m━━━━━━━━━━━━━━━━━━━━━━━━━━━━━━━━━━━━━━━━\u001b[0m \u001b[32m43.6/43.6 kB\u001b[0m \u001b[31m2.8 MB/s\u001b[0m eta \u001b[36m0:00:00\u001b[0m\n",
            "\u001b[2K   \u001b[90m━━━━━━━━━━━━━━━━━━━━━━━━━━━━━━━━━━━━━━━━\u001b[0m \u001b[32m43.3/43.3 MB\u001b[0m \u001b[31m18.1 MB/s\u001b[0m eta \u001b[36m0:00:00\u001b[0m\n",
            "\u001b[2K   \u001b[90m━━━━━━━━━━━━━━━━━━━━━━━━━━━━━━━━━━━━━━━━\u001b[0m \u001b[32m2.4/2.4 MB\u001b[0m \u001b[31m70.9 MB/s\u001b[0m eta \u001b[36m0:00:00\u001b[0m\n",
            "\u001b[2K   \u001b[90m━━━━━━━━━━━━━━━━━━━━━━━━━━━━━━━━━━━━━━━━\u001b[0m \u001b[32m3.7/3.7 MB\u001b[0m \u001b[31m97.7 MB/s\u001b[0m eta \u001b[36m0:00:00\u001b[0m\n",
            "\u001b[2K   \u001b[90m━━━━━━━━━━━━━━━━━━━━━━━━━━━━━━━━━━━━━━━━\u001b[0m \u001b[32m13.1/13.1 MB\u001b[0m \u001b[31m111.9 MB/s\u001b[0m eta \u001b[36m0:00:00\u001b[0m\n",
            "\u001b[2K   \u001b[90m━━━━━━━━━━━━━━━━━━━━━━━━━━━━━━━━━━━━━━━━\u001b[0m \u001b[32m96.4/96.4 kB\u001b[0m \u001b[31m8.4 MB/s\u001b[0m eta \u001b[36m0:00:00\u001b[0m\n",
            "\u001b[?25h  Building wheel for nnunetv2 (pyproject.toml) ... \u001b[?25l\u001b[?25hdone\n",
            "  Building wheel for acvl-utils (setup.py) ... \u001b[?25l\u001b[?25hdone\n",
            "  Building wheel for batchgenerators (setup.py) ... \u001b[?25l\u001b[?25hdone\n",
            "  Building wheel for batchgeneratorsv2 (pyproject.toml) ... \u001b[?25l\u001b[?25hdone\n",
            "  Building wheel for dynamic-network-architectures (setup.py) ... \u001b[?25l\u001b[?25hdone\n"
          ]
        }
      ]
    },
    {
      "cell_type": "code",
      "source": [
        "import os\n",
        "import cv2\n",
        "import shutil\n",
        "import random\n",
        "\n",
        "import numpy as np\n",
        "from PIL import Image\n",
        "import matplotlib.pyplot as plt"
      ],
      "metadata": {
        "id": "CxAsm7vNOgZi"
      },
      "execution_count": null,
      "outputs": []
    },
    {
      "cell_type": "code",
      "source": [
        "!gdown -q 1PUFSRpCnLe9sya68CKlnEoU9aWcnthSV # Download nnUNetv2 Model\n",
        "!unzip -q /content/nnUNet_results.zip # Unzip Model\n",
        "!mv /content/content/nnUNet_results /content/nnUNet_results\n",
        "!rm -rf /content/content"
      ],
      "metadata": {
        "id": "yzj0ZMu8YCKy"
      },
      "execution_count": null,
      "outputs": []
    },
    {
      "cell_type": "code",
      "source": [
        "# Set Environment Variables\n",
        "\n",
        "%env nnUNet_raw = /content/nnUNet_raw/\n",
        "%env nnUNet_results = /content/nnUNet_results/\n",
        "%env nnUNet_preprocessed = /content/nnUNet_preprocessed/"
      ],
      "metadata": {
        "colab": {
          "base_uri": "https://localhost:8080/"
        },
        "id": "HETA1DW5YOks",
        "outputId": "a96870e3-58f9-4124-dd18-b18ddb872382"
      },
      "execution_count": null,
      "outputs": [
        {
          "output_type": "stream",
          "name": "stdout",
          "text": [
            "env: nnUNet_raw=/content/nnUNet_raw/\n",
            "env: nnUNet_results=/content/nnUNet_results/\n",
            "env: nnUNet_preprocessed=/content/nnUNet_preprocessed/\n"
          ]
        }
      ]
    },
    {
      "cell_type": "markdown",
      "source": [
        "### INPUT DATA PREPARATION"
      ],
      "metadata": {
        "id": "k4OZgreINgYE"
      }
    },
    {
      "cell_type": "code",
      "source": [
        "# Loop Through Input\n",
        "# Convert to GrayScale\n",
        "# Replace .png with _0000.png"
      ],
      "metadata": {
        "id": "1AXFRWDuNmNm"
      },
      "execution_count": null,
      "outputs": []
    },
    {
      "cell_type": "code",
      "source": [
        "!mkdir INPUT_DATA\n",
        "!mkdir OUTPUT_DATA"
      ],
      "metadata": {
        "id": "R8vONo99PUZV"
      },
      "execution_count": null,
      "outputs": []
    },
    {
      "cell_type": "code",
      "source": [
        "def prepare_data(input_path, output_path):\n",
        "  # Converting Input Data to GrayScale\n",
        "  # Naming to nnUNet Appropriate Inference Format\n",
        "\n",
        "  CNT = 0\n",
        "  for img in os.listdir(input_path):\n",
        "    if img.endswith('.png'):\n",
        "      CNT += 1\n",
        "      image = Image.open(os.path.join(input_path, img))\n",
        "      image = image.convert('L') # Convert to GrayScale\n",
        "      image.save(os.path.join(output_path, img.replace('.png', '_0000.png'))) # Rename Images\n",
        "  print(f'{CNT} Scans Ready for Testing')"
      ],
      "metadata": {
        "id": "Lp4kDrEiPHhs"
      },
      "execution_count": null,
      "outputs": []
    },
    {
      "cell_type": "code",
      "source": [
        "# Parse the path to the test data here:\n",
        "\n",
        "test_data = '/content/TEST_DATA'\n",
        "\n",
        "prepare_data(test_data, '/content/INPUT_DATA')"
      ],
      "metadata": {
        "id": "yQcZK2TvQLyT",
        "colab": {
          "base_uri": "https://localhost:8080/"
        },
        "outputId": "3789efe7-feea-4432-976c-c7bc6c3c2544"
      },
      "execution_count": null,
      "outputs": [
        {
          "output_type": "stream",
          "name": "stdout",
          "text": [
            "76 Scans Ready for Testing\n"
          ]
        }
      ]
    },
    {
      "cell_type": "markdown",
      "source": [
        "### nnU-Netv2 Prediction"
      ],
      "metadata": {
        "id": "jKq-G1ASRL3t"
      }
    },
    {
      "cell_type": "code",
      "source": [
        "# CUDA is required to run inference\n",
        "\n",
        "!nnUNetv2_predict -i INPUT_DATA -o OUTPUT_DATA -d 101 -c CONFIGURATION -f 1"
      ],
      "metadata": {
        "id": "hC5U9oAGQnXP",
        "colab": {
          "base_uri": "https://localhost:8080/"
        },
        "outputId": "88b8198b-d507-4fcc-d228-41df12efe82e"
      },
      "execution_count": null,
      "outputs": [
        {
          "output_type": "stream",
          "name": "stdout",
          "text": [
            "\n",
            "#######################################################################\n",
            "Please cite the following paper when using nnU-Net:\n",
            "Isensee, F., Jaeger, P. F., Kohl, S. A., Petersen, J., & Maier-Hein, K. H. (2021). nnU-Net: a self-configuring method for deep learning-based biomedical image segmentation. Nature methods, 18(2), 203-211.\n",
            "#######################################################################\n",
            "\n",
            "/usr/local/lib/python3.10/dist-packages/nnunetv2/inference/predict_from_raw_data.py:84: FutureWarning: You are using `torch.load` with `weights_only=False` (the current default value), which uses the default pickle module implicitly. It is possible to construct malicious pickle data which will execute arbitrary code during unpickling (See https://github.com/pytorch/pytorch/blob/main/SECURITY.md#untrusted-models for more details). In a future release, the default value for `weights_only` will be flipped to `True`. This limits the functions that could be executed during unpickling. Arbitrary objects will no longer be allowed to be loaded via this mode unless they are explicitly allowlisted by the user via `torch.serialization.add_safe_globals`. We recommend you start setting `weights_only=True` for any use case where you don't have full control of the loaded file. Please open an issue on GitHub for any issues related to this experimental feature.\n",
            "  checkpoint = torch.load(join(model_training_output_dir, f'fold_{f}', checkpoint_name),\n",
            "There are 76 cases in the source folder\n",
            "I am process 0 out of 1 (max process ID is 0, we start counting with 0!)\n",
            "There are 76 cases that I would like to predict\n",
            "\n",
            "Predicting benign (428):\n",
            "perform_everything_on_device: True\n",
            "100% 3/3 [00:03<00:00,  1.01s/it]\n",
            "sending off prediction to background worker for resampling and export\n",
            "done with benign (428)\n",
            "\n",
            "Predicting benign (429):\n",
            "perform_everything_on_device: True\n",
            "100% 2/2 [00:00<00:00,  5.29it/s]\n",
            "sending off prediction to background worker for resampling and export\n",
            "done with benign (429)\n",
            "\n",
            "Predicting benign (430):\n",
            "perform_everything_on_device: True\n",
            "100% 4/4 [00:00<00:00,  5.45it/s]\n",
            "sending off prediction to background worker for resampling and export\n",
            "done with benign (430)\n",
            "\n",
            "Predicting benign (431):\n",
            "perform_everything_on_device: True\n",
            "100% 2/2 [00:00<00:00,  6.25it/s]\n",
            "sending off prediction to background worker for resampling and export\n",
            "done with benign (431)\n",
            "\n",
            "Predicting benign (432):\n",
            "perform_everything_on_device: True\n",
            "100% 1/1 [00:00<00:00,  5.71it/s]\n",
            "sending off prediction to background worker for resampling and export\n",
            "done with benign (432)\n",
            "\n",
            "Predicting benign (433):\n",
            "perform_everything_on_device: True\n",
            "100% 2/2 [00:00<00:00,  8.36it/s]\n",
            "sending off prediction to background worker for resampling and export\n",
            "done with benign (433)\n",
            "\n",
            "Predicting benign (434):\n",
            "perform_everything_on_device: True\n",
            "100% 2/2 [00:00<00:00,  8.60it/s]\n",
            "sending off prediction to background worker for resampling and export\n",
            "done with benign (434)\n",
            "\n",
            "Predicting benign (435):\n",
            "perform_everything_on_device: True\n",
            "100% 2/2 [00:00<00:00,  8.60it/s]\n",
            "sending off prediction to background worker for resampling and export\n",
            "done with benign (435)\n",
            "\n",
            "Predicting benign (436):\n",
            "perform_everything_on_device: True\n",
            "100% 1/1 [00:00<00:00,  8.81it/s]\n",
            "sending off prediction to background worker for resampling and export\n",
            "done with benign (436)\n",
            "\n",
            "Predicting benign (437):\n",
            "perform_everything_on_device: True\n",
            "100% 4/4 [00:00<00:00,  7.45it/s]\n",
            "sending off prediction to background worker for resampling and export\n",
            "done with benign (437)\n",
            "\n",
            "Predicting benign (58):\n",
            "perform_everything_on_device: True\n",
            "100% 6/6 [00:00<00:00,  7.83it/s]\n",
            "sending off prediction to background worker for resampling and export\n",
            "done with benign (58)\n",
            "\n",
            "Predicting benign (59):\n",
            "perform_everything_on_device: True\n",
            "100% 2/2 [00:00<00:00,  8.53it/s]\n",
            "sending off prediction to background worker for resampling and export\n",
            "done with benign (59)\n",
            "\n",
            "Predicting benign (6):\n",
            "perform_everything_on_device: True\n",
            "100% 2/2 [00:00<00:00,  8.31it/s]\n",
            "sending off prediction to background worker for resampling and export\n",
            "done with benign (6)\n",
            "\n",
            "Predicting benign (60):\n",
            "perform_everything_on_device: True\n",
            "100% 4/4 [00:00<00:00,  7.97it/s]\n",
            "sending off prediction to background worker for resampling and export\n",
            "done with benign (60)\n",
            "\n",
            "Predicting benign (61):\n",
            "perform_everything_on_device: True\n",
            "100% 6/6 [00:00<00:00,  6.21it/s]\n",
            "sending off prediction to background worker for resampling and export\n",
            "done with benign (61)\n",
            "\n",
            "Predicting benign (62):\n",
            "perform_everything_on_device: True\n",
            "100% 2/2 [00:00<00:00,  5.73it/s]\n",
            "sending off prediction to background worker for resampling and export\n",
            "done with benign (62)\n",
            "\n",
            "Predicting benign (63):\n",
            "perform_everything_on_device: True\n",
            "100% 4/4 [00:00<00:00,  5.57it/s]\n",
            "sending off prediction to background worker for resampling and export\n",
            "done with benign (63)\n",
            "\n",
            "Predicting benign (64):\n",
            "perform_everything_on_device: True\n",
            "100% 2/2 [00:00<00:00,  4.94it/s]\n",
            "sending off prediction to background worker for resampling and export\n",
            "done with benign (64)\n",
            "\n",
            "Predicting benign (65):\n",
            "perform_everything_on_device: True\n",
            "100% 2/2 [00:00<00:00,  5.77it/s]\n",
            "sending off prediction to background worker for resampling and export\n",
            "done with benign (65)\n",
            "\n",
            "Predicting benign (66):\n",
            "perform_everything_on_device: True\n",
            "100% 2/2 [00:00<00:00,  5.46it/s]\n",
            "sending off prediction to background worker for resampling and export\n",
            "done with benign (66)\n",
            "\n",
            "Predicting benign (67):\n",
            "perform_everything_on_device: True\n",
            "100% 2/2 [00:00<00:00,  7.98it/s]\n",
            "sending off prediction to background worker for resampling and export\n",
            "done with benign (67)\n",
            "\n",
            "Predicting benign (68):\n",
            "perform_everything_on_device: True\n",
            "100% 4/4 [00:00<00:00,  7.86it/s]\n",
            "sending off prediction to background worker for resampling and export\n",
            "done with benign (68)\n",
            "\n",
            "Predicting benign (69):\n",
            "perform_everything_on_device: True\n",
            "100% 6/6 [00:00<00:00,  7.75it/s]\n",
            "sending off prediction to background worker for resampling and export\n",
            "done with benign (69)\n",
            "\n",
            "Predicting benign (7):\n",
            "perform_everything_on_device: True\n",
            "100% 4/4 [00:00<00:00,  7.84it/s]\n",
            "sending off prediction to background worker for resampling and export\n",
            "done with benign (7)\n",
            "\n",
            "Predicting benign (70):\n",
            "perform_everything_on_device: True\n",
            "100% 2/2 [00:00<00:00,  8.42it/s]\n",
            "sending off prediction to background worker for resampling and export\n",
            "done with benign (70)\n",
            "\n",
            "Predicting benign (71):\n",
            "perform_everything_on_device: True\n",
            "100% 2/2 [00:00<00:00,  7.98it/s]\n",
            "sending off prediction to background worker for resampling and export\n",
            "done with benign (71)\n",
            "\n",
            "Predicting benign (72):\n",
            "perform_everything_on_device: True\n",
            "100% 2/2 [00:00<00:00,  7.92it/s]\n",
            "sending off prediction to background worker for resampling and export\n",
            "done with benign (72)\n",
            "\n",
            "Predicting benign (73):\n",
            "perform_everything_on_device: True\n",
            "100% 2/2 [00:00<00:00,  8.19it/s]\n",
            "sending off prediction to background worker for resampling and export\n",
            "done with benign (73)\n",
            "\n",
            "Predicting benign (74):\n",
            "perform_everything_on_device: True\n",
            "100% 2/2 [00:00<00:00,  5.46it/s]\n",
            "sending off prediction to background worker for resampling and export\n",
            "done with benign (74)\n",
            "\n",
            "Predicting benign (75):\n",
            "perform_everything_on_device: True\n",
            "100% 4/4 [00:00<00:00,  4.88it/s]\n",
            "sending off prediction to background worker for resampling and export\n",
            "done with benign (75)\n",
            "\n",
            "Predicting benign (76):\n",
            "perform_everything_on_device: True\n",
            "100% 6/6 [00:01<00:00,  5.48it/s]\n",
            "sending off prediction to background worker for resampling and export\n",
            "done with benign (76)\n",
            "\n",
            "Predicting benign (77):\n",
            "perform_everything_on_device: True\n",
            "100% 2/2 [00:00<00:00,  5.87it/s]\n",
            "sending off prediction to background worker for resampling and export\n",
            "done with benign (77)\n",
            "\n",
            "Predicting benign (78):\n",
            "perform_everything_on_device: True\n",
            "100% 6/6 [00:01<00:00,  5.99it/s]\n",
            "sending off prediction to background worker for resampling and export\n",
            "done with benign (78)\n",
            "\n",
            "Predicting benign (79):\n",
            "perform_everything_on_device: True\n",
            "100% 4/4 [00:00<00:00,  7.71it/s]\n",
            "sending off prediction to background worker for resampling and export\n",
            "done with benign (79)\n",
            "\n",
            "Predicting benign (8):\n",
            "perform_everything_on_device: True\n",
            "100% 4/4 [00:00<00:00,  7.70it/s]\n",
            "sending off prediction to background worker for resampling and export\n",
            "done with benign (8)\n",
            "\n",
            "Predicting benign (80):\n",
            "perform_everything_on_device: True\n",
            "100% 2/2 [00:00<00:00,  7.98it/s]\n",
            "sending off prediction to background worker for resampling and export\n",
            "done with benign (80)\n",
            "\n",
            "Predicting benign (81):\n",
            "perform_everything_on_device: True\n",
            "100% 2/2 [00:00<00:00,  7.99it/s]\n",
            "sending off prediction to background worker for resampling and export\n",
            "done with benign (81)\n",
            "\n",
            "Predicting benign (82):\n",
            "perform_everything_on_device: True\n",
            "100% 2/2 [00:00<00:00,  7.54it/s]\n",
            "sending off prediction to background worker for resampling and export\n",
            "done with benign (82)\n",
            "\n",
            "Predicting benign (83):\n",
            "perform_everything_on_device: True\n",
            "100% 2/2 [00:00<00:00,  8.24it/s]\n",
            "sending off prediction to background worker for resampling and export\n",
            "done with benign (83)\n",
            "\n",
            "Predicting benign (84):\n",
            "perform_everything_on_device: True\n",
            "100% 3/3 [00:00<00:00,  7.71it/s]\n",
            "sending off prediction to background worker for resampling and export\n",
            "done with benign (84)\n",
            "\n",
            "Predicting benign (85):\n",
            "perform_everything_on_device: True\n",
            "100% 2/2 [00:00<00:00,  7.90it/s]\n",
            "sending off prediction to background worker for resampling and export\n",
            "done with benign (85)\n",
            "\n",
            "Predicting benign (86):\n",
            "perform_everything_on_device: True\n",
            "100% 6/6 [00:00<00:00,  7.16it/s]\n",
            "sending off prediction to background worker for resampling and export\n",
            "done with benign (86)\n",
            "\n",
            "Predicting benign (87):\n",
            "perform_everything_on_device: True\n",
            "100% 4/4 [00:00<00:00,  5.44it/s]\n",
            "sending off prediction to background worker for resampling and export\n",
            "done with benign (87)\n",
            "\n",
            "Predicting benign (88):\n",
            "perform_everything_on_device: True\n",
            "100% 6/6 [00:01<00:00,  5.62it/s]\n",
            "sending off prediction to background worker for resampling and export\n",
            "done with benign (88)\n",
            "\n",
            "Predicting benign (89):\n",
            "perform_everything_on_device: True\n",
            "100% 6/6 [00:01<00:00,  5.48it/s]\n",
            "sending off prediction to background worker for resampling and export\n",
            "done with benign (89)\n",
            "\n",
            "Predicting benign (9):\n",
            "perform_everything_on_device: True\n",
            "100% 4/4 [00:00<00:00,  5.38it/s]\n",
            "sending off prediction to background worker for resampling and export\n",
            "done with benign (9)\n",
            "\n",
            "Predicting benign (90):\n",
            "perform_everything_on_device: True\n",
            "100% 6/6 [00:00<00:00,  6.28it/s]\n",
            "sending off prediction to background worker for resampling and export\n",
            "done with benign (90)\n",
            "\n",
            "Predicting benign (91):\n",
            "perform_everything_on_device: True\n",
            "100% 6/6 [00:00<00:00,  7.55it/s]\n",
            "sending off prediction to background worker for resampling and export\n",
            "done with benign (91)\n",
            "\n",
            "Predicting benign (92):\n",
            "perform_everything_on_device: True\n",
            "100% 4/4 [00:00<00:00,  7.71it/s]\n",
            "sending off prediction to background worker for resampling and export\n",
            "done with benign (92)\n",
            "\n",
            "Predicting benign (93):\n",
            "perform_everything_on_device: True\n",
            "100% 2/2 [00:00<00:00,  8.22it/s]\n",
            "sending off prediction to background worker for resampling and export\n",
            "done with benign (93)\n",
            "\n",
            "Predicting benign (94):\n",
            "perform_everything_on_device: True\n",
            "100% 4/4 [00:00<00:00,  7.45it/s]\n",
            "sending off prediction to background worker for resampling and export\n",
            "done with benign (94)\n",
            "\n",
            "Predicting benign (95):\n",
            "perform_everything_on_device: True\n",
            "100% 2/2 [00:00<00:00,  7.76it/s]\n",
            "sending off prediction to background worker for resampling and export\n",
            "done with benign (95)\n",
            "\n",
            "Predicting benign (96):\n",
            "perform_everything_on_device: True\n",
            "100% 4/4 [00:00<00:00,  7.54it/s]\n",
            "sending off prediction to background worker for resampling and export\n",
            "done with benign (96)\n",
            "\n",
            "Predicting benign (97):\n",
            "perform_everything_on_device: True\n",
            "100% 2/2 [00:00<00:00,  8.16it/s]\n",
            "sending off prediction to background worker for resampling and export\n",
            "done with benign (97)\n",
            "\n",
            "Predicting benign (98):\n",
            "perform_everything_on_device: True\n",
            "100% 6/6 [00:00<00:00,  6.13it/s]\n",
            "sending off prediction to background worker for resampling and export\n",
            "done with benign (98)\n",
            "\n",
            "Predicting benign (99):\n",
            "perform_everything_on_device: True\n",
            "100% 2/2 [00:00<00:00,  6.17it/s]\n",
            "sending off prediction to background worker for resampling and export\n",
            "done with benign (99)\n",
            "\n",
            "Predicting malignant (201):\n",
            "perform_everything_on_device: True\n",
            "100% 4/4 [00:00<00:00,  5.14it/s]\n",
            "sending off prediction to background worker for resampling and export\n",
            "done with malignant (201)\n",
            "\n",
            "Predicting malignant (202):\n",
            "perform_everything_on_device: True\n",
            "100% 2/2 [00:00<00:00,  5.79it/s]\n",
            "sending off prediction to background worker for resampling and export\n",
            "done with malignant (202)\n",
            "\n",
            "Predicting malignant (203):\n",
            "perform_everything_on_device: True\n",
            "100% 2/2 [00:00<00:00,  5.22it/s]\n",
            "sending off prediction to background worker for resampling and export\n",
            "done with malignant (203)\n",
            "\n",
            "Predicting malignant (204):\n",
            "perform_everything_on_device: True\n",
            "100% 6/6 [00:01<00:00,  5.54it/s]\n",
            "sending off prediction to background worker for resampling and export\n",
            "done with malignant (204)\n",
            "\n",
            "Predicting malignant (205):\n",
            "perform_everything_on_device: True\n",
            "100% 1/1 [00:00<00:00,  8.97it/s]\n",
            "sending off prediction to background worker for resampling and export\n",
            "done with malignant (205)\n",
            "\n",
            "Predicting malignant (206):\n",
            "perform_everything_on_device: True\n",
            "100% 6/6 [00:00<00:00,  7.31it/s]\n",
            "sending off prediction to background worker for resampling and export\n",
            "done with malignant (206)\n",
            "\n",
            "Predicting malignant (207):\n",
            "perform_everything_on_device: True\n",
            "100% 2/2 [00:00<00:00,  8.21it/s]\n",
            "sending off prediction to background worker for resampling and export\n",
            "done with malignant (207)\n",
            "\n",
            "Predicting malignant (208):\n",
            "perform_everything_on_device: True\n",
            "100% 4/4 [00:00<00:00,  7.64it/s]\n",
            "sending off prediction to background worker for resampling and export\n",
            "done with malignant (208)\n",
            "\n",
            "Predicting malignant (209):\n",
            "perform_everything_on_device: True\n",
            "100% 1/1 [00:00<00:00,  8.90it/s]\n",
            "sending off prediction to background worker for resampling and export\n",
            "done with malignant (209)\n",
            "\n",
            "Predicting malignant (210):\n",
            "perform_everything_on_device: True\n",
            "100% 6/6 [00:00<00:00,  7.46it/s]\n",
            "sending off prediction to background worker for resampling and export\n",
            "done with malignant (210)\n",
            "\n",
            "Predicting normal (124):\n",
            "perform_everything_on_device: True\n",
            "100% 6/6 [00:00<00:00,  7.35it/s]\n",
            "sending off prediction to background worker for resampling and export\n",
            "done with normal (124)\n",
            "\n",
            "Predicting normal (125):\n",
            "perform_everything_on_device: True\n",
            "100% 2/2 [00:00<00:00,  8.25it/s]\n",
            "sending off prediction to background worker for resampling and export\n",
            "done with normal (125)\n",
            "\n",
            "Predicting normal (126):\n",
            "perform_everything_on_device: True\n",
            "100% 4/4 [00:00<00:00,  5.76it/s]\n",
            "sending off prediction to background worker for resampling and export\n",
            "done with normal (126)\n",
            "\n",
            "Predicting normal (127):\n",
            "perform_everything_on_device: True\n",
            "100% 2/2 [00:00<00:00,  5.30it/s]\n",
            "sending off prediction to background worker for resampling and export\n",
            "done with normal (127)\n",
            "\n",
            "Predicting normal (128):\n",
            "perform_everything_on_device: True\n",
            "100% 4/4 [00:01<00:00,  3.92it/s]\n",
            "sending off prediction to background worker for resampling and export\n",
            "done with normal (128)\n",
            "\n",
            "Predicting normal (129):\n",
            "perform_everything_on_device: True\n",
            "100% 4/4 [00:01<00:00,  3.81it/s]\n",
            "sending off prediction to background worker for resampling and export\n",
            "done with normal (129)\n",
            "\n",
            "Predicting normal (130):\n",
            "perform_everything_on_device: True\n",
            "100% 2/2 [00:00<00:00,  7.13it/s]\n",
            "sending off prediction to background worker for resampling and export\n",
            "done with normal (130)\n",
            "\n",
            "Predicting normal (131):\n",
            "perform_everything_on_device: True\n",
            "100% 4/4 [00:00<00:00,  7.81it/s]\n",
            "sending off prediction to background worker for resampling and export\n",
            "done with normal (131)\n",
            "\n",
            "Predicting normal (132):\n",
            "perform_everything_on_device: True\n",
            "100% 6/6 [00:00<00:00,  7.50it/s]\n",
            "sending off prediction to background worker for resampling and export\n",
            "done with normal (132)\n",
            "\n",
            "Predicting normal (133):\n",
            "perform_everything_on_device: True\n",
            "100% 2/2 [00:00<00:00,  8.34it/s]\n",
            "sending off prediction to background worker for resampling and export\n",
            "done with normal (133)\n"
          ]
        }
      ]
    },
    {
      "cell_type": "code",
      "source": [
        "# Convert images in output to 1-bit depth\n",
        "\n",
        "for image in os.listdir('/content/OUTPUT_DATA'):\n",
        "  if image.endswith('.png'):\n",
        "    img = Image.open(f'/content/OUTPUT_DATA/{image}')\n",
        "    img = np.array(img)\n",
        "    cv2.imwrite(f'/content/OUTPUT_DATA/{image}', img, [cv2.IMWRITE_PNG_BILEVEL, 1])"
      ],
      "metadata": {
        "id": "yzypTn4pvDK9"
      },
      "execution_count": null,
      "outputs": []
    },
    {
      "cell_type": "code",
      "source": [
        "# Predictions are saved in OUTPUT_DATA\n",
        "# Use 'plt.imshow(, cmap = 'gray')' to see masks where possible."
      ],
      "metadata": {
        "id": "tYUscm6wZKCV"
      },
      "execution_count": null,
      "outputs": []
    },
    {
      "cell_type": "markdown",
      "source": [
        "### HIDDEN"
      ],
      "metadata": {
        "id": "0ifiDavABN5Q"
      }
    },
    {
      "cell_type": "code",
      "source": [
        "# Randomly Move Images to TEST_DATA\n",
        "\n",
        "CNT = 0\n",
        "for root, dir, img in os.walk('/content/PRECISE_Hackathon_Dataset'):\n",
        "  for image in img:\n",
        "    if 'mask' not in image:\n",
        "      source_path = os.path.join(root, image)\n",
        "      if random.randint(0,100) < 2: # 2% chance of moving\n",
        "          shutil.move(source_path, '/content/TEST_DATA')\n",
        "          CNT +=1\n",
        "\n",
        "print(f'{CNT} images moved.')\n"
      ],
      "metadata": {
        "id": "jt8Uf2raRm08"
      },
      "execution_count": null,
      "outputs": []
    },
    {
      "cell_type": "code",
      "source": [
        "!gdown -q 1g61gMabSflHdZzlQ5o6KUq5hpmIYZJI4 # Download PRECISE Hack Dataset\n",
        "!unzip -q /content/PRECISE_Hackathon_Dataset.zip # Unzip Dataset\n",
        "!mkdir TEST_DATA"
      ],
      "metadata": {
        "id": "YTQfXF9EOC3L"
      },
      "execution_count": null,
      "outputs": []
    },
    {
      "cell_type": "code",
      "source": [
        "benign = os.listdir('/content/PRECISE_Hackathon_Dataset/benign')\n",
        "malignant = os.listdir('/content/PRECISE_Hackathon_Dataset/malignant')\n",
        "normal = os.listdir('/content/PRECISE_Hackathon_Dataset/normal')"
      ],
      "metadata": {
        "id": "euf4KfqsR8VC"
      },
      "execution_count": null,
      "outputs": []
    },
    {
      "cell_type": "code",
      "source": [
        "!kaggle datasets download -d aryashah2k/breast-ultrasound-images-dataset"
      ],
      "metadata": {
        "id": "ECRDbdQIeZSr",
        "colab": {
          "base_uri": "https://localhost:8080/"
        },
        "outputId": "663e465d-57bf-4aae-96e8-d7c49f988d8f"
      },
      "execution_count": null,
      "outputs": [
        {
          "output_type": "stream",
          "name": "stdout",
          "text": [
            "Dataset URL: https://www.kaggle.com/datasets/aryashah2k/breast-ultrasound-images-dataset\n",
            "License(s): CC0-1.0\n",
            "Downloading breast-ultrasound-images-dataset.zip to /content\n",
            " 95% 185M/195M [00:03<00:00, 95.1MB/s]\n",
            "100% 195M/195M [00:03<00:00, 64.3MB/s]\n"
          ]
        }
      ]
    },
    {
      "cell_type": "code",
      "source": [
        "!unzip -q /content/breast-ultrasound-images-dataset.zip"
      ],
      "metadata": {
        "id": "VDW8MimHSXmh"
      },
      "execution_count": null,
      "outputs": []
    },
    {
      "cell_type": "code",
      "source": [
        "for img in (os.listdir('/content/OUTPUT_DATA')):\n",
        "  if 'png' not in img:\n",
        "    print(img)"
      ],
      "metadata": {
        "id": "h7JQtDP0Sp4L"
      },
      "execution_count": null,
      "outputs": []
    },
    {
      "cell_type": "code",
      "source": [
        "combined = benign + malignant + normal\n",
        "\n",
        "CNT = 0\n",
        "\n",
        "for root, dir, file in os.walk('/content/Dataset_BUSI_with_GT'):\n",
        "  for image in file:\n",
        "    if image not in combined and 'mask' not in image:\n",
        "      shutil.copy(os.path.join(root, image), '/content/TEST_DATA')\n",
        "      CNT += 1\n",
        "\n",
        "print(f'{CNT} images copied.')"
      ],
      "metadata": {
        "colab": {
          "base_uri": "https://localhost:8080/"
        },
        "id": "crenLn6TSLMR",
        "outputId": "7ce4e9c5-d4b5-4262-9d45-c833849a7cf2"
      },
      "execution_count": null,
      "outputs": [
        {
          "output_type": "stream",
          "name": "stdout",
          "text": [
            "76 images copied.\n"
          ]
        }
      ]
    },
    {
      "cell_type": "code",
      "source": [
        "for images in os.listdir('/content/TEST_DATA'):\n",
        "  if 'mask_1' in images:\n",
        "    os.rename(os.path.join('/content/TEST_DATA', images), os.path.join('/content/TEST_DATA', images.replace('mask_1', 'mask')))\n",
        "  if 'mask_2' in images:\n",
        "    os.rename(os.path.join('/content/TEST_DATA', images), os.path.join('/content/TEST_DATA', images.replace('mask_2', 'mask')))"
      ],
      "metadata": {
        "id": "ptrVRau2Sm91"
      },
      "execution_count": null,
      "outputs": []
    },
    {
      "cell_type": "code",
      "source": [
        "!zip -r /content/PRED_MASKS.zip /content/OUTPUT_DATA"
      ],
      "metadata": {
        "colab": {
          "base_uri": "https://localhost:8080/"
        },
        "id": "Xn6_613hSycz",
        "outputId": "bbad9144-4f29-41fa-d909-f9b79a1805aa"
      },
      "execution_count": null,
      "outputs": [
        {
          "output_type": "stream",
          "name": "stdout",
          "text": [
            "  adding: content/OUTPUT_DATA/ (stored 0%)\n",
            "  adding: content/OUTPUT_DATA/malignant (205).png (deflated 6%)\n",
            "  adding: content/OUTPUT_DATA/benign (87).png (deflated 37%)\n",
            "  adding: content/OUTPUT_DATA/normal (126).png (deflated 84%)\n",
            "  adding: content/OUTPUT_DATA/benign (73).png (deflated 5%)\n",
            "  adding: content/OUTPUT_DATA/benign (429).png (deflated 33%)\n",
            "  adding: content/OUTPUT_DATA/malignant (206).png (deflated 8%)\n",
            "  adding: content/OUTPUT_DATA/benign (9).png (deflated 12%)\n",
            "  adding: content/OUTPUT_DATA/benign (6).png (deflated 23%)\n",
            "  adding: content/OUTPUT_DATA/normal (131).png (deflated 82%)\n",
            "  adding: content/OUTPUT_DATA/benign (61).png (deflated 28%)\n",
            "  adding: content/OUTPUT_DATA/benign (67).png (deflated 6%)\n",
            "  adding: content/OUTPUT_DATA/benign (433).png (deflated 31%)\n",
            "  adding: content/OUTPUT_DATA/benign (72).png (deflated 13%)\n",
            "  adding: content/OUTPUT_DATA/benign (66).png (deflated 26%)\n",
            "  adding: content/OUTPUT_DATA/benign (82).png (deflated 24%)\n",
            "  adding: content/OUTPUT_DATA/normal (132).png (deflated 87%)\n",
            "  adding: content/OUTPUT_DATA/benign (7).png (deflated 47%)\n",
            "  adding: content/OUTPUT_DATA/benign (81).png (deflated 30%)\n",
            "  adding: content/OUTPUT_DATA/normal (128).png (deflated 81%)\n",
            "  adding: content/OUTPUT_DATA/benign (431).png (deflated 30%)\n",
            "  adding: content/OUTPUT_DATA/normal (129).png (deflated 83%)\n",
            "  adding: content/OUTPUT_DATA/benign (58).png (deflated 27%)\n",
            "  adding: content/OUTPUT_DATA/benign (428).png (deflated 16%)\n",
            "  adding: content/OUTPUT_DATA/benign (79).png (deflated 28%)\n",
            "  adding: content/OUTPUT_DATA/benign (65).png (deflated 22%)\n",
            "  adding: content/OUTPUT_DATA/benign (436).png (deflated 10%)\n",
            "  adding: content/OUTPUT_DATA/benign (86).png (deflated 45%)\n",
            "  adding: content/OUTPUT_DATA/benign (95).png (deflated 34%)\n",
            "  adding: content/OUTPUT_DATA/normal (124).png (deflated 87%)\n",
            "  adding: content/OUTPUT_DATA/benign (91).png (deflated 52%)\n",
            "  adding: content/OUTPUT_DATA/benign (76).png (deflated 35%)\n",
            "  adding: content/OUTPUT_DATA/benign (98).png (deflated 5%)\n",
            "  adding: content/OUTPUT_DATA/benign (64).png (deflated 3%)\n",
            "  adding: content/OUTPUT_DATA/benign (88).png (deflated 12%)\n",
            "  adding: content/OUTPUT_DATA/benign (68).png (deflated 13%)\n",
            "  adding: content/OUTPUT_DATA/benign (69).png (deflated 55%)\n",
            "  adding: content/OUTPUT_DATA/malignant (204).png (deflated 17%)\n",
            "  adding: content/OUTPUT_DATA/normal (125).png (deflated 76%)\n",
            "  adding: content/OUTPUT_DATA/benign (75).png (deflated 24%)\n",
            "  adding: content/OUTPUT_DATA/normal (127).png (deflated 76%)\n",
            "  adding: content/OUTPUT_DATA/benign (77).png (deflated 24%)\n",
            "  adding: content/OUTPUT_DATA/benign (89).png (deflated 13%)\n",
            "  adding: content/OUTPUT_DATA/malignant (202).png (deflated 6%)\n",
            "  adding: content/OUTPUT_DATA/normal (133).png (deflated 76%)\n",
            "  adding: content/OUTPUT_DATA/benign (84).png (deflated 9%)\n",
            "  adding: content/OUTPUT_DATA/benign (80).png (deflated 4%)\n",
            "  adding: content/OUTPUT_DATA/benign (434).png (deflated 9%)\n",
            "  adding: content/OUTPUT_DATA/benign (71).png (deflated 38%)\n",
            "  adding: content/OUTPUT_DATA/benign (96).png (deflated 12%)\n",
            "  adding: content/OUTPUT_DATA/malignant (209).png (deflated 22%)\n",
            "  adding: content/OUTPUT_DATA/malignant (207).png (deflated 11%)\n",
            "  adding: content/OUTPUT_DATA/benign (437).png (deflated 57%)\n",
            "  adding: content/OUTPUT_DATA/benign (99).png (deflated 20%)\n",
            "  adding: content/OUTPUT_DATA/benign (74).png (deflated 35%)\n",
            "  adding: content/OUTPUT_DATA/benign (59).png (deflated 16%)\n",
            "  adding: content/OUTPUT_DATA/benign (83).png (deflated 31%)\n",
            "  adding: content/OUTPUT_DATA/benign (63).png (deflated 43%)\n",
            "  adding: content/OUTPUT_DATA/benign (62).png (deflated 6%)\n",
            "  adding: content/OUTPUT_DATA/benign (430).png (deflated 22%)\n",
            "  adding: content/OUTPUT_DATA/benign (8).png (deflated 43%)\n",
            "  adding: content/OUTPUT_DATA/benign (432).png (deflated 10%)\n",
            "  adding: content/OUTPUT_DATA/benign (70).png (deflated 34%)\n",
            "  adding: content/OUTPUT_DATA/benign (93).png (deflated 21%)\n",
            "  adding: content/OUTPUT_DATA/benign (435).png (deflated 28%)\n",
            "  adding: content/OUTPUT_DATA/benign (90).png (deflated 44%)\n",
            "  adding: content/OUTPUT_DATA/malignant (201).png (deflated 9%)\n",
            "  adding: content/OUTPUT_DATA/malignant (210).png (deflated 9%)\n",
            "  adding: content/OUTPUT_DATA/benign (60).png (deflated 53%)\n",
            "  adding: content/OUTPUT_DATA/benign (85).png (deflated 10%)\n",
            "  adding: content/OUTPUT_DATA/benign (92).png (deflated 18%)\n",
            "  adding: content/OUTPUT_DATA/malignant (208).png (deflated 6%)\n",
            "  adding: content/OUTPUT_DATA/normal (130).png (deflated 80%)\n",
            "  adding: content/OUTPUT_DATA/benign (78).png (deflated 38%)\n",
            "  adding: content/OUTPUT_DATA/benign (97).png (deflated 8%)\n",
            "  adding: content/OUTPUT_DATA/benign (94).png (deflated 27%)\n",
            "  adding: content/OUTPUT_DATA/malignant (203).png (deflated 5%)\n"
          ]
        }
      ]
    },
    {
      "cell_type": "code",
      "source": [
        "!rm -rf /content/TEST_DATA/*"
      ],
      "metadata": {
        "id": "z-WC90sTUXkL"
      },
      "execution_count": null,
      "outputs": []
    },
    {
      "cell_type": "code",
      "source": [],
      "metadata": {
        "id": "qoLQH6yFUxkQ"
      },
      "execution_count": null,
      "outputs": []
    }
  ]
}